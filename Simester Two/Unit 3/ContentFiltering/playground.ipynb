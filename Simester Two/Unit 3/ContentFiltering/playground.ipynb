{
 "cells": [
  {
   "cell_type": "code",
   "execution_count": 38,
   "metadata": {},
   "outputs": [
    {
     "name": "stdout",
     "output_type": "stream",
     "text": [
      "32677/32678 99%\r"
     ]
    }
   ],
   "source": [
    "import pandas as pd\n",
    "\n",
    "dot05 = pd.read_csv(\"data/dot05_nsfw_words.csv\")\n",
    "dot9 = pd.read_csv(\"data/dot9_nsfw_words.csv\")\n",
    "\n",
    "values = dot05['word'].to_dict().values()\n",
    "\n",
    "newWords = {\"word\": [], \"count\": []}\n",
    "\n",
    "for x in range(dot9['word'].count()):\n",
    "    print(str(x) + \"/\" + str(dot9['word'].count()) + \" \" + str(int((x/dot9['word'].count())*100)) + \"%\", end=\"\\r\")\n",
    "    if dot9.loc[x]['word'] not in values:\n",
    "        newWords['word'].append(dot9.loc[x]['word'])\n",
    "        newWords['count'].append(dot9.loc[x]['count'])\n",
    "\n",
    "pd.DataFrame(newWords).to_csv(\"data/top_nsfw_words.csv\")\n"
   ]
  },
  {
   "cell_type": "code",
   "execution_count": 39,
   "metadata": {},
   "outputs": [
    {
     "name": "stdout",
     "output_type": "stream",
     "text": [
      "6145/6146 99%\r"
     ]
    }
   ],
   "source": [
    "# Remove non-english words\n",
    "bigList = pd.read_csv(\"data/bigList.csv\")\n",
    "bigList = bigList.to_dict()\n",
    "newWords = pd.DataFrame(newWords)\n",
    "dictWords = open(\"data/words.txt\", \"r\").read().split(\"\\n\")\n",
    "\n",
    "count = newWords.count()['word']\n",
    "for index in range(count):\n",
    "    if newWords.loc[index]['word'] not in bigList['words'].values() or newWords.loc[index]['word'] not in dictWords:\n",
    "        newWords.drop(index, inplace=True)\n",
    "        print(f\"{index}/{count} {int((index/count)*100)}%\", end=\"\\r\")\n",
    "\n",
    "newWords.to_csv(\"data/dictionary_verified_top_nsfw_words.csv\")"
   ]
  },
  {
   "cell_type": "code",
   "execution_count": null,
   "metadata": {},
   "outputs": [
    {
     "name": "stdout",
     "output_type": "stream",
     "text": [
      "True\n",
      "91184/91185 99%\r"
     ]
    }
   ],
   "source": [
    "newWords = pd.read_csv(\"data/dictionary_verified_top_nsfw_words.csv\")\n",
    "sfwWords = pd.read_csv(\"data/dot05_nsfw_words.csv\")\n",
    "#print(newWords['word'].to_dict().values())\n",
    "count = sfwWords.count()['word']\n",
    "dictNewWords = newWords['word'].to_dict().values()\n",
    "\n",
    "\n",
    "for index in range(sfwWords.count()['word']):\n",
    "    print(f\"{index}/{count} {int((index/count)*100)}%\", end=\"\\r\")\n",
    "    if sfwWords.loc[index]['word'] in dictNewWords:\n",
    "        print(sfwWords.loc[index]['word'])\n",
    "        sfwWords.drop(index)\n",
    "        "
   ]
  }
 ],
 "metadata": {
  "kernelspec": {
   "display_name": "Python 3",
   "language": "python",
   "name": "python3"
  },
  "language_info": {
   "codemirror_mode": {
    "name": "ipython",
    "version": 3
   },
   "file_extension": ".py",
   "mimetype": "text/x-python",
   "name": "python",
   "nbconvert_exporter": "python",
   "pygments_lexer": "ipython3",
   "version": "3.13.2"
  }
 },
 "nbformat": 4,
 "nbformat_minor": 2
}
