{
 "cells": [
  {
   "cell_type": "code",
   "execution_count": 38,
   "metadata": {},
   "outputs": [
    {
     "name": "stdout",
     "output_type": "stream",
     "text": [
      "32677/32678 99%\r"
     ]
    }
   ],
   "source": [
    "import pandas as pd\n",
    "\n",
    "dot05 = pd.read_csv(\"data/dot05_nsfw_words.csv\")\n",
    "dot9 = pd.read_csv(\"data/dot9_nsfw_words.csv\")\n",
    "\n",
    "values = dot05['word'].to_dict().values()\n",
    "\n",
    "newWords = {\"word\": [], \"count\": []}\n",
    "\n",
    "for x in range(dot9['word'].count()):\n",
    "    print(str(x) + \"/\" + str(dot9['word'].count()) + \" \" + str(int((x/dot9['word'].count())*100)) + \"%\", end=\"\\r\")\n",
    "    if dot9.loc[x]['word'] not in values:\n",
    "        newWords['word'].append(dot9.loc[x]['word'])\n",
    "        newWords['count'].append(dot9.loc[x]['count'])\n",
    "\n",
    "pd.DataFrame(newWords).to_csv(\"data/top_nsfw_words.csv\")\n"
   ]
  },
  {
   "cell_type": "code",
   "execution_count": 39,
   "metadata": {},
   "outputs": [
    {
     "name": "stdout",
     "output_type": "stream",
     "text": [
      "6145/6146 99%\r"
     ]
    }
   ],
   "source": [
    "# Remove non-english words\n",
    "bigList = pd.read_csv(\"data/bigList.csv\")\n",
    "bigList = bigList.to_dict()\n",
    "newWords = pd.DataFrame(newWords)\n",
    "dictWords = open(\"data/words.txt\", \"r\").read().split(\"\\n\")\n",
    "\n",
    "count = newWords.count()['word']\n",
    "for index in range(count):\n",
    "    if newWords.loc[index]['word'] not in bigList['words'].values() or newWords.loc[index]['word'] not in dictWords:\n",
    "        newWords.drop(index, inplace=True)\n",
    "        print(f\"{index}/{count} {int((index/count)*100)}%\", end=\"\\r\")\n",
    "\n",
    "newWords.to_csv(\"data/dictionary_verified_top_nsfw_words.csv\")"
   ]
  },
  {
   "cell_type": "code",
   "execution_count": null,
   "metadata": {},
   "outputs": [
    {
     "name": "stdout",
     "output_type": "stream",
     "text": [
      "['knave', 'spake', 'wordsmith', 'tween', 'gou', 'gruelling', 'underlight', 'hogans', 'racy', 'skimpy', 'sawhorse', 'tucking', 'tickled', 'nevertheless', 'whereas', 'crunches', 'reversi', 'contortionist', 'borning', 'jockstrap', 'supposedly', 'bombshell', 'virtue', 'coiling', 'gyal', 'chaka', 'midshipman', 'cheongsam', 'lamia', 'orgy', 'confess', 'workaholic', 'noncommittal', 'dashiki', 'pantyhose', 'unclothed', 'naiad', 'haut', 'cleavage', 'unequivocal', 'flustered', 'placate', 'cancerous', 'cellist', 'rocketeer', 'damsel', 'precariously', 'deg', 'merman', 'impractical', 'supine', 'defiling', 'fuddled', 'squishing', 'masseuse', 'accusation', 'ticklish', 'sarong', 'manliness', 'gotch', 'fakir', 'clubbing', 'infuriating', 'histology', 'knockers', 'sugi', 'forfeit', 'expulsion', 'fucking', 'hoho', 'thrashed', 'difficulty', 'nymphet', 'lascivious', 'pennyworth', 'decolletage', 'tejano', 'swam', 'retrieve', 'reclined', 'seducer', 'kundalini', 'interdependence', 'dapped', 'cadaver', 'venere', 'laugher', 'naturist', 'inhaler', 'banya', 'bearish', 'invigorate', 'intersex', 'zaftig', 'recumbent', 'flagpole', 'hydrosphere', 'blading', 'comely', 'pulchritudinous', 'undergarment', 'dichotomy', 'muddle', 'lawless', 'extant', 'gallium', 'stupendous', 'seam', 'lured', 'similitude', 'muumuu', 'slain', 'moonbow', 'transgressive', 'potbellied', 'bachelorette', 'temptress', 'bacchanalian', 'outtake', 'concubine', 'duchy', 'busty', 'skein', 'conceive', 'mestiza', 'massaging', 'nucha', 'exotica', 'waistband', 'homoeroticism', 'catatonic', 'recession', 'ramping', 'weightlifter', 'psychologic', 'mangal', 'motherly', 'ultraviolent', 'caulking', 'notification', 'pranking', 'succubi', 'cire', 'cannister', 'froglet', 'batoon', 'ripeness', 'violoncello', 'evicted', 'divorced', 'hermaphrodite', 'await', 'neigh', 'asbestos', 'charmed', 'ravishing', 'prower', 'superfine', 'recreating', 'luxe', 'gladiolus', 'blackcoat', 'archon', 'demeanor', 'sanatarium', 'saxifrage', 'sweeting', 'titillation', 'saron', 'plastering', 'xiii', 'overtime', 'pauper', 'peekaboo', 'perchance', 'jiggle', 'soared', 'sitar', 'sparring', 'seductress', 'rollers', 'bratty', 'cuffed', 'hipshot', 'combing', 'endurance', 'totality', 'cervix', 'gaining', 'shrewd', 'negotiator', 'pilling', 'gumshoe', 'zaftig', 'plucking', 'frieze', 'quantized', 'wench', 'allergic', 'quench', 'illusionist', 'genteel', 'recollection', 'absorption', 'evaluate', 'incorrect', 'ringer', 'wink', 'slain', 'outcome', 'pudendum', 'hypnotising', 'darkskin', 'bustier', 'shawls', 'raunchy', 'unclad', 'peignoir', 'ferme', 'fixe', 'unarmed', 'sampling', 'foresight', 'intuit', 'morth', 'indifference', 'musicality', 'shyness', 'amalgam', 'eh', 'tying', 'blackguard', 'planner', 'mer', 'nonchalant', 'fellate', 'unmentionables', 'amorous', 'retribution', 'dominant', 'purring', 'fingered', 'inordinate', 'slathering', 'leggy', 'bifocals', 'unpainted', 'juxtapose', 'supernumerary', 'revising', 'trademark', 'mystified', 'areola', 'bittersweet', 'inept', 'erase', 'flimsy', 'raze', 'snuggle', 'skyrocket', 'suntan', 'unisex', 'negligee', 'plumper', 'hedonic', 'melodramatic', 'barefooted', 'woosh', 'somniferous', 'marksman', 'rubby', 'gull', 'intimidated', 'riviere', 'unbound', 'ichor', 'baptismal', 'multiracial', 'gaed', 'eugenics', 'competent', 'accentuate', 'moly', 'hurling', 'cabling', 'padi', 'mediator', 'opacity', 'lifter', 'rosed', 'hurter', 'clapperboard', 'spoony', 'nudist', 'extatic', 'pogrom', 'chaste', 'loosen', 'narcissistic', 'supersaturated', 'diss', 'umm', 'coloratura', 'pleat', 'lashed', 'bosomy', 'yoked', 'amarine', 'prostrate', 'hindquarters', 'discourse', 'rife', 'zingy', 'turnbuckle', 'leathers', 'motto', 'piscine', 'feisty', 'betrayer', 'retroactive', 'charmed', 'glitzy', 'submerge', 'futuro', 'gawky', 'psychoanalysis', 'akimbo', 'pombo', 'pectoral', 'androginous', 'hora', 'teather', 'marrow', 'eschatology', 'skol', 'golder', 'assurance', 'versa', 'tiddy', 'mnemonic', 'influenza', 'vulgar', 'appeal', 'grandiloquent', 'enthralling', 'peremptory', 'contrite', 'boogerman', 'prescience', 'masseur', 'spelunking', 'mouser', 'polster', 'strides', 'patter', 'rectified', 'ideo', 'crinkly', 'raped', 'refurbished', 'praetor', 'stud', 'entwine', 'leant', 'convivial', 'memorabilia', 'weirdies', 'hobbyist', 'informer', 'jai', 'boon', 'demigoddess', 'diligent', 'smoother', 'longtail', 'converging', 'recess', 'clout', 'hyperintelligent']\n",
      "swimming\n",
      "91184/91185 99%\r"
     ]
    }
   ],
   "source": [
    "import pandas as pd\n",
    "newWords = pd.read_csv(\"data/dictionary_verified_top_nsfw_words.csv\")\n",
    "sfwWords = pd.read_csv(\"data/dot05_nsfw_words.csv\")\n",
    "#print(newWords['word'].to_dict().values())\n",
    "count = sfwWords.count()['word']\n",
    "dictNewWords = list(newWords['word'].to_dict().values())\n",
    "\n",
    "\n",
    "for index in range(sfwWords.count()['word']):\n",
    "    print(f\"{index}/{count} {int((index/count)*100)}%\", end=\"\\r\")\n",
    "    if sfwWords.loc[index]['word'] in dictNewWords:\n",
    "        print(sfwWords.loc[index]['word'])\n",
    "        sfwWords.drop(index)\n",
    "        "
   ]
  }
 ],
 "metadata": {
  "kernelspec": {
   "display_name": "Python 3",
   "language": "python",
   "name": "python3"
  },
  "language_info": {
   "codemirror_mode": {
    "name": "ipython",
    "version": 3
   },
   "file_extension": ".py",
   "mimetype": "text/x-python",
   "name": "python",
   "nbconvert_exporter": "python",
   "pygments_lexer": "ipython3",
   "version": "3.13.2"
  }
 },
 "nbformat": 4,
 "nbformat_minor": 2
}
