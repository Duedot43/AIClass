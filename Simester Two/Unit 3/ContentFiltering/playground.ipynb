{
 "cells": [
  {
   "cell_type": "code",
   "execution_count": 2,
   "metadata": {},
   "outputs": [
    {
     "name": "stdout",
     "output_type": "stream",
     "text": [
      "33118/33119 99%\r"
     ]
    }
   ],
   "source": [
    "import pandas as pd\n",
    "\n",
    "dot05 = pd.read_csv(\"data/dot05_nsfw_words.csv\")\n",
    "dot9 = pd.read_csv(\"data/dot9_nsfw_words.csv\")\n",
    "\n",
    "values = dot05['word'].to_dict().values()\n",
    "\n",
    "newWords = {\"word\": [], \"count\": []}\n",
    "\n",
    "for x in range(dot9['word'].count()):\n",
    "    print(str(x) + \"/\" + str(dot9['word'].count()) + \" \" + str(int((x/dot9['word'].count())*100)) + \"%\", end=\"\\r\")\n",
    "    if dot9.loc[x]['word'] not in values:\n",
    "        newWords['word'].append(dot9.loc[x]['word'])\n",
    "        newWords['count'].append(dot9.loc[x]['count'])\n",
    "\n",
    "pd.DataFrame(newWords).to_csv(\"data/top_nsfw_words.csv\")\n",
    "    "
   ]
  },
  {
   "cell_type": "code",
   "execution_count": null,
   "metadata": {},
   "outputs": [],
   "source": [
    "# Remove non-english words\n"
   ]
  }
 ],
 "metadata": {
  "kernelspec": {
   "display_name": "Python 3",
   "language": "python",
   "name": "python3"
  },
  "language_info": {
   "codemirror_mode": {
    "name": "ipython",
    "version": 3
   },
   "file_extension": ".py",
   "mimetype": "text/x-python",
   "name": "python",
   "nbconvert_exporter": "python",
   "pygments_lexer": "ipython3",
   "version": "3.13.2"
  }
 },
 "nbformat": 4,
 "nbformat_minor": 2
}
