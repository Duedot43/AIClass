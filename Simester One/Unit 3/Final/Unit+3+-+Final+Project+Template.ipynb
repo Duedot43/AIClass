{
 "cells": [
  {
   "cell_type": "markdown",
   "id": "9919c268",
   "metadata": {},
   "source": [
    "# Choose a Data Set\n",
    "\n",
    "Create your own dataset by scraping one of the following websites *(level 5)*:\n",
    "- [Wikipedia](https://www.wikipedia.org/)\n",
    "- [OpenLibrary](https://openlibrary.org/)\n",
    "\n",
    "**OR** \n",
    "\n",
    "Use data gathered from one of the following APIs *(level 4)*: \n",
    "- [TMDB](https://developer.themoviedb.org/reference/intro/getting-started)\n",
    "- [College Scorecard](https://collegescorecard.ed.gov/data/api-documentation/)\n",
    "\n",
    "**OR** \n",
    "\n",
    "Pick a JSON dataset *(level 3)*:\n",
    "- [Food/Restaurant Data](https://drive.google.com/drive/folders/1V94S6WpclvQmbnW88KVMD4EruryA1oma?usp=drive_link)\n",
    "- [Fashion Data](https://drive.google.com/drive/folders/1V8SbFjtRRW8WVf3xBzg0gzLjOtMhHea_?usp=drive_link)\n",
    "\n",
    "**OR** \n",
    "\n",
    "Pick a CSV dataset *(level 2)*:\n",
    "- [LA Parking Tickets](https://drive.google.com/drive/folders/1vaOfwMi6QmZEGsXr8VM0ulPGzvTTBCgm?usp=drive_link)\n",
    "- [Hotels](https://drive.google.com/drive/folders/1IpVFxgwBJvJHKoOuBsk6WK2qYqFYP4hi?usp=drive_link)"
   ]
  },
  {
   "cell_type": "markdown",
   "id": "ae147ea6",
   "metadata": {},
   "source": [
    "# My Question\n",
    "\n",
    "What is the average rating for a book in each country and what is the most high-rated year-range for each country (United State China and Russa)"
   ]
  },
  {
   "cell_type": "markdown",
   "id": "149f324f",
   "metadata": {},
   "source": [
    "# My Answer"
   ]
  },
  {
   "cell_type": "code",
   "execution_count": 1,
   "id": "b228559e",
   "metadata": {},
   "outputs": [],
   "source": [
    "import bs4 as bs\n",
    "import random\n",
    "import pandas as pd\n",
    "import seaborn as sb\n",
    "import numpy as np\n",
    "import datetime\n",
    "import requests as rq\n",
    "import pickle\n",
    "import json\n",
    "import time\n",
    "from collections import Counter\n",
    "import matplotlib.pyplot as plt\n",
    "# PVLAES4RV3LWZCBE\n",
    "\n",
    "def save_pickle(file, value):\n",
    "    pickle.dump(value, open(file, \"wb\"))\n",
    "def load_pickle(file):\n",
    "    return pickle.load(open(file, \"rb\"))\n",
    "\"\"\"\n",
    "pages = []\n",
    "for x in range(1,11):\n",
    "    URL = \"https://openlibrary.org/search?q=United States&mode=everything&sort=rating&page=\" + str(x)\n",
    "    page = rq.get(URL)\n",
    "    pages.append(bs.BeautifulSoup(page.content, \"html.parser\"))\n",
    "save_pickle(\"UnitedStates.p\", pages)\n",
    "\n",
    "pages = []\n",
    "for x in range(1,11):\n",
    "    URL = \"https://openlibrary.org/search?q=China&mode=everything&sort=rating&page=\" + str(x)\n",
    "    page = rq.get(URL)\n",
    "    pages.append(bs.BeautifulSoup(page.content, \"html.parser\"))\n",
    "save_pickle(\"China.p\", pages)\n",
    "\n",
    "pages = []\n",
    "for x in range(1,11):\n",
    "    URL = \"https://openlibrary.org/search?q=Russia&mode=everything&sort=rating&page=\" + str(x)\n",
    "    page = rq.get(URL)\n",
    "    pages.append(bs.BeautifulSoup(page.content, \"html.parser\"))\n",
    "save_pickle(\"Russia.p\", pages)\n",
    "\"\"\"\n",
    "\n",
    "countrys = {\"us\": load_pickle(\"UnitedStates.p\"), \"ch\": load_pickle(\"China.p\"), \"ru\": load_pickle(\"Russia.p\")}\n",
    "countrysCombined = {\"us\": [], \"ch\": [], \"ru\": []}\n",
    "\n",
    "for key in ['us', 'ch', 'ru']:\n",
    "    for y in range(1,10):\n",
    "        #countrysCombined[key].append(countrys[key][y].find_all(\"li\", {\"itemtype\": \"https://schema.org/Book\"}))\n",
    "        for z in countrys[key][y].find_all(\"li\", {\"itemtype\": \"https://schema.org/Book\"}):\n",
    "            countrysCombined[key].append(z)\n",
    "\n",
    "books = {\"us\": {\"title\": [], \"author\": [], \"rating\": [], \"year\": []}, \"ch\": {\"title\": [], \"author\": [], \"rating\": [], \"year\": []}, \"ru\": {\"title\": [], \"author\": [], \"rating\": [], \"year\": []}}\n",
    "\n",
    "for country in [\"us\", \"ch\", \"ru\"]:\n",
    "    for book in countrysCombined[country]:\n",
    "        title = book.find(\"a\", {\"itemprop\": \"url\"}).text\n",
    "\n",
    "        try:\n",
    "            author = book.find(\"span\", {\"itemprop\": \"author\"}).find(\"a\").text\n",
    "        except:\n",
    "            author = \"unknown\"\n",
    "        \n",
    "        try:\n",
    "            year = book.find(\"span\", {\"class\": \"resultDetails\"}).find(\"span\").text.replace(\"First published in \", \"\")\n",
    "        except:\n",
    "            year = \"unknown\"\n",
    "\n",
    "        try:\n",
    "            rating = book.find(\"span\", {\"itemprop\": \"ratingValue\"}).text[:3] # :3\n",
    "        except:\n",
    "            rating = \"unknown\"\n",
    "\n",
    "        if author != \"unknown\" and year != \"unknown\" and rating != \"unknown\":\n",
    "            fail = False\n",
    "            try:\n",
    "                int(year)\n",
    "                float(rating)\n",
    "            except:\n",
    "                fail = True\n",
    "            if fail != True:\n",
    "                books[country]['title'].append(title)\n",
    "                books[country]['author'].append(author)\n",
    "                books[country]['year'].append(int(year))\n",
    "                books[country]['rating'].append(float(rating))\n",
    "        \n",
    "save_pickle(\"books.p\", books)"
   ]
  },
  {
   "cell_type": "code",
   "execution_count": 95,
   "id": "781ab4b0",
   "metadata": {},
   "outputs": [
    {
     "name": "stdout",
     "output_type": "stream",
     "text": [
      "4.323863636363637\n",
      "4.605263157894737\n",
      "3.9766355140186915\n"
     ]
    }
   ],
   "source": [
    "books = load_pickle(\"books.p\")\n",
    "\n",
    "for country in [\"us\", \"ch\", \"ru\"]:\n",
    "    print(sum(books[country]['rating'])/len(books[country]['rating']))"
   ]
  },
  {
   "cell_type": "code",
   "execution_count": 142,
   "id": "0d2bc141",
   "metadata": {},
   "outputs": [
    {
     "name": "stdout",
     "output_type": "stream",
     "text": [
      "average rating for the century 1400 in the country us is 3.7\n",
      "average rating for the century 1500 in the country us is 3.95\n",
      "average rating for the century 1600 in the country us is 3.55\n",
      "average rating for the century 1700 in the country us is 4.2727272727272725\n",
      "average rating for the century 1800 in the country us is 4.058620689655172\n",
      "average rating for the century 1900 in the country us is 4.363636363636363\n",
      "average rating for the century 2000 in the country us is 4.494230769230769\n",
      "\n",
      "average rating for the century 1500 in the country ch is 5.0\n",
      "average rating for the century 1600 in the country ch is 4.199999999999999\n",
      "average rating for the century 1700 in the country ch is 3.85\n",
      "average rating for the century 1800 in the country ch is 4.315384615384615\n",
      "average rating for the century 1900 in the country ch is 4.408\n",
      "average rating for the century 2000 in the country ch is 4.217105263157895\n",
      "\n",
      "average rating for the century 1700 in the country ru is 4.0\n",
      "average rating for the century 1800 in the country ru is 3.6\n",
      "average rating for the century 1900 in the country ru is 4.307317073170732\n",
      "average rating for the century 2000 in the country ru is 4.138709677419355\n",
      "\n"
     ]
    }
   ],
   "source": [
    "books = load_pickle(\"books.p\")\n",
    "\n",
    "yearsCountry = {\"us\": [], \"ch\": [], \"ru\": []}\n",
    "for country in [\"us\", \"ch\", \"ru\"]:\n",
    "    years = {}\n",
    "    for x in range(int(str(min(books[country]['year']))[:2]),21):\n",
    "        for book in range(len(books[country]['year'])):\n",
    "            if int(str(books[country]['year'][book])[:2]) == x:\n",
    "                try:\n",
    "                    years[x]\n",
    "                except:\n",
    "                    years[x] = []\n",
    "\n",
    "                years[x].append(books['us']['rating'][book])\n",
    "\n",
    "    yearsCountry[country] = years\n",
    "\n",
    "                #print(int(str(books['us']['year'][book])[:2]))\n",
    "\n",
    "#print(yearsCountry)\n",
    "\n",
    "for country in yearsCountry:\n",
    "    for year in yearsCountry[country]:\n",
    "        \n",
    "        print(\"average rating for the century \" + str(year) + \"00 in the country \" + country + \" is \" + str(sum(yearsCountry[country][year])/len(yearsCountry[country][year])))\n",
    "    print()\n"
   ]
  },
  {
   "cell_type": "markdown",
   "id": "a8bc8bcb",
   "metadata": {},
   "source": [
    "***Describe analysis here.***"
   ]
  },
  {
   "cell_type": "markdown",
   "id": "34735acd",
   "metadata": {},
   "source": [
    "The answer to my question is the average rating per country in the US China and Russia is \n",
    "4.323863636363637\n",
    "4.605263157894737\n",
    "3.9766355140186915\n",
    "stars respectivally\n",
    "\n",
    "The answer to the question of what is the average rating per year range in each country is \n",
    "average rating for the century 1400 in the country us is 3.7\n",
    "average rating for the century 1500 in the country us is 3.95\n",
    "average rating for the century 1600 in the country us is 3.55\n",
    "average rating for the century 1700 in the country us is 4.2727272727272725\n",
    "average rating for the century 1800 in the country us is 4.058620689655172\n",
    "average rating for the century 1900 in the country us is 4.363636363636363\n",
    "average rating for the century 2000 in the country us is 4.494230769230769\n",
    "\n",
    "average rating for the century 1500 in the country ch is 5.0\n",
    "average rating for the century 1600 in the country ch is 4.199999999999999\n",
    "average rating for the century 1700 in the country ch is 3.85\n",
    "average rating for the century 1800 in the country ch is 4.315384615384615\n",
    "average rating for the century 1900 in the country ch is 4.408\n",
    "average rating for the century 2000 in the country ch is 4.217105263157895\n",
    "\n",
    "average rating for the century 1700 in the country ru is 4.0\n",
    "average rating for the century 1800 in the country ru is 3.6\n",
    "average rating for the century 1900 in the country ru is 4.307317073170732\n",
    "average rating for the century 2000 in the country ru is 4.138709677419355\n",
    "\n"
   ]
  },
  {
   "cell_type": "markdown",
   "id": "4d93cfe1",
   "metadata": {},
   "source": [
    "***Describe analysis here.***"
   ]
  },
  {
   "cell_type": "code",
   "execution_count": 3,
   "id": "94e3fabf",
   "metadata": {},
   "outputs": [],
   "source": [
    "# Add more code/markdown cells here if you need them."
   ]
  }
 ],
 "metadata": {
  "kernelspec": {
   "display_name": "Python 3",
   "language": "python",
   "name": "python3"
  },
  "language_info": {
   "codemirror_mode": {
    "name": "ipython",
    "version": 3
   },
   "file_extension": ".py",
   "mimetype": "text/x-python",
   "name": "python",
   "nbconvert_exporter": "python",
   "pygments_lexer": "ipython3",
   "version": "3.12.7"
  }
 },
 "nbformat": 4,
 "nbformat_minor": 5
}
