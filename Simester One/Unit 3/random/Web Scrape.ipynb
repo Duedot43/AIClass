{
 "cells": [
  {
   "cell_type": "code",
   "execution_count": 1,
   "id": "363600a0-bb51-43d2-9f84-42214610c114",
   "metadata": {},
   "outputs": [
    {
     "name": "stdout",
     "output_type": "stream",
     "text": [
      "[]\n"
     ]
    }
   ],
   "source": [
    "import requests as rq\n",
    "import bs4 as bs\n",
    "import pandas as pd\n",
    "import random\n",
    "\n",
    "URL = \"https://realpython.github.io/fake-jobs/\"\n",
    "page = rq.get(URL)\n",
    "\n",
    "soup = bs.BeautifulSoup(page.content, \"html.parser\")\n",
    "\n",
    "results = soup.find_all(id_=\"l901\")\n",
    "\n",
    "#print(results)\n",
    "\n",
    "for result in results:\n",
    "    print(result.text.strip())\n",
    "   "
   ]
  },
  {
   "cell_type": "code",
   "execution_count": 135,
   "id": "5334daa3-322f-47d5-a372-addc898aa3d1",
   "metadata": {},
   "outputs": [
    {
     "name": "stdout",
     "output_type": "stream",
     "text": [
      "24%\n"
     ]
    }
   ],
   "source": [
    "URL = \"https://www.scrapethissite.com/pages/forms/?per_page=582\"\n",
    "page = rq.get(URL)\n",
    "\n",
    "soup = bs.BeautifulSoup(page.content, \"html.parser\")\n",
    "\n",
    "\n",
    "results = soup.find_all(class_=\"team\")\n",
    "\n",
    "yearsCount = {}\n",
    "teams = {}\n",
    "\n",
    "for result in results:\n",
    "\n",
    "    if result.find(class_=\"year\").text.strip() not in yearsCount:\n",
    "        yearsCount[result.find(class_=\"year\").text.strip()] = [0, 0]\n",
    "        teams[result.find(class_=\"year\").text.strip()] = []\n",
    "    teams[result.find(class_=\"year\").text.strip()].append([result.find(class_=\"name\").text.strip(), result.find(class_=\"wins\").text.strip(), result.find(class_=\"year\").text.strip()])\n",
    "\n",
    "\n",
    "for x in teams:\n",
    "    yearsCount[x][1] = len(teams[x])\n",
    "    for y in teams[x]:\n",
    "        if int(y[1]) >= 30:\n",
    "            yearsCount[x][0] += 1\n",
    "\n",
    "complete = 0\n",
    "\n",
    "for z in range(1000):\n",
    "    countYearsDone = []\n",
    "    for x in yearsCount:\n",
    "        if random.randint(0,100) >= int((yearsCount[x][0]/yearsCount[x][1])*100):\n",
    "            countYearsDone.append(True)\n",
    "        else:\n",
    "            countYearsDone.append(False)\n",
    "\n",
    "\n",
    "    for x in range(len(countYearsDone)):\n",
    "        if countYearsDone[x]: # If we have a hit for a score above 30\n",
    "            if (x+3 > len(countYearsDone)-1) == False: # Sanity check so we arent causing index out of range\n",
    "                if countYearsDone[x] and countYearsDone[x+1] and countYearsDone[x+2]: # Check if the 3 in front of it are also true\n",
    "                    complete += 1 # If there are 3 in a row then mark complete\n",
    "\n",
    "print(str(int((complete/1000)*100)) + \"%\")"
   ]
  },
  {
   "cell_type": "code",
   "execution_count": null,
   "id": "a644ce5b-bbe8-4da1-adab-26db250afbe6",
   "metadata": {},
   "outputs": [],
   "source": []
  },
  {
   "cell_type": "code",
   "execution_count": null,
   "id": "46f31c0a-49cc-4554-81b4-3e09cc8a2c61",
   "metadata": {},
   "outputs": [],
   "source": []
  }
 ],
 "metadata": {
  "kernelspec": {
   "display_name": "Python 3 (ipykernel)",
   "language": "python",
   "name": "python3"
  },
  "language_info": {
   "codemirror_mode": {
    "name": "ipython",
    "version": 3
   },
   "file_extension": ".py",
   "mimetype": "text/x-python",
   "name": "python",
   "nbconvert_exporter": "python",
   "pygments_lexer": "ipython3",
   "version": "3.12.7"
  }
 },
 "nbformat": 4,
 "nbformat_minor": 5
}
