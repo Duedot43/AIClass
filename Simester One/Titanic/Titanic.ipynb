{
 "cells": [
  {
   "cell_type": "code",
   "execution_count": 48,
   "id": "b21bb51d-ef17-466c-aac7-cc7ec9b0ee91",
   "metadata": {},
   "outputs": [
    {
     "name": "stdout",
     "output_type": "stream",
     "text": [
      "576 over 18\n",
      "64% Male\n"
     ]
    }
   ],
   "source": [
    "import pandas as pd\n",
    "\n",
    "data = pd.read_csv(\"titanic.csv\")\n",
    "\n",
    "#count = {}\n",
    "#for x in data['Age'].tolist():\n",
    "#    try:\n",
    "#        count[x] += 1\n",
    "#    except:\n",
    "#        count.update({x:1})\n",
    "#print(count)\n",
    "\n",
    "data.at[5, 'Age'] = 28\n",
    "\n",
    "count = 0\n",
    "for x in data['Age'].tolist():\n",
    "    try:\n",
    "        if int(x) > 18:\n",
    "            count += 1\n",
    "    except:\n",
    "        continue\n",
    "print(str(count) + \" over 18\")\n",
    "\n",
    "ammount = data.count()['PassengerId']\n",
    "count = 0\n",
    "for x in data['Sex'].tolist():\n",
    "    if x == \"male\":\n",
    "        count += 1\n",
    "print(str(int((count/ammount)*100)) + \"% Male\")"
   ]
  },
  {
   "cell_type": "code",
   "execution_count": 62,
   "id": "e74da0ee-f629-4f47-959b-1bd237dbbe14",
   "metadata": {},
   "outputs": [
    {
     "data": {
      "text/html": [
       "<div>\n",
       "<style scoped>\n",
       "    .dataframe tbody tr th:only-of-type {\n",
       "        vertical-align: middle;\n",
       "    }\n",
       "\n",
       "    .dataframe tbody tr th {\n",
       "        vertical-align: top;\n",
       "    }\n",
       "\n",
       "    .dataframe thead th {\n",
       "        text-align: right;\n",
       "    }\n",
       "</style>\n",
       "<table border=\"1\" class=\"dataframe\">\n",
       "  <thead>\n",
       "    <tr style=\"text-align: right;\">\n",
       "      <th></th>\n",
       "      <th>class</th>\n",
       "      <th>freq%</th>\n",
       "    </tr>\n",
       "  </thead>\n",
       "  <tbody>\n",
       "    <tr>\n",
       "      <th>0</th>\n",
       "      <td>1</td>\n",
       "      <td>24</td>\n",
       "    </tr>\n",
       "    <tr>\n",
       "      <th>1</th>\n",
       "      <td>2</td>\n",
       "      <td>20</td>\n",
       "    </tr>\n",
       "    <tr>\n",
       "      <th>2</th>\n",
       "      <td>3</td>\n",
       "      <td>55</td>\n",
       "    </tr>\n",
       "  </tbody>\n",
       "</table>\n",
       "</div>"
      ],
      "text/plain": [
       "   class  freq%\n",
       "0      1     24\n",
       "1      2     20\n",
       "2      3     55"
      ]
     },
     "metadata": {},
     "output_type": "display_data"
    }
   ],
   "source": [
    "import pandas as pd\n",
    "\n",
    "data = pd.read_csv(\"titanic.csv\")\n",
    "ammount = data.count()['PassengerId']\n",
    "\n",
    "columns = ['age', 'freq%']\n",
    "count = pd.DataFrame([(1,0), (2,0), (3,0)], columns=columns)\n",
    "for x in data['Pclass'].tolist():\n",
    "    try:\n",
    "        #count['freq'][x-1] += 1\n",
    "        #count.loc[x-1][\"freq\"] += 1\n",
    "        count.at[x-1, 'freq%'] += 1\n",
    "    except:\n",
    "        continue\n",
    "\n",
    "for x in range(3):\n",
    "    count.at[x, 'freq%'] = int((count['freq%'][x]/ammount)*100)\n",
    "display(count)"
   ]
  },
  {
   "cell_type": "code",
   "execution_count": 8,
   "id": "94d2cc00-073c-4e14-abff-a422db7897fb",
   "metadata": {},
   "outputs": [
    {
     "data": {
      "text/html": [
       "<div>\n",
       "<style scoped>\n",
       "    .dataframe tbody tr th:only-of-type {\n",
       "        vertical-align: middle;\n",
       "    }\n",
       "\n",
       "    .dataframe tbody tr th {\n",
       "        vertical-align: top;\n",
       "    }\n",
       "\n",
       "    .dataframe thead th {\n",
       "        text-align: right;\n",
       "    }\n",
       "</style>\n",
       "<table border=\"1\" class=\"dataframe\">\n",
       "  <thead>\n",
       "    <tr style=\"text-align: right;\">\n",
       "      <th></th>\n",
       "      <th>city</th>\n",
       "      <th>suriv_freq%</th>\n",
       "    </tr>\n",
       "  </thead>\n",
       "  <tbody>\n",
       "    <tr>\n",
       "      <th>0</th>\n",
       "      <td>S</td>\n",
       "      <td>72</td>\n",
       "    </tr>\n",
       "    <tr>\n",
       "      <th>1</th>\n",
       "      <td>Q</td>\n",
       "      <td>8</td>\n",
       "    </tr>\n",
       "    <tr>\n",
       "      <th>2</th>\n",
       "      <td>C</td>\n",
       "      <td>18</td>\n",
       "    </tr>\n",
       "  </tbody>\n",
       "</table>\n",
       "</div>"
      ],
      "text/plain": [
       "  city  suriv_freq%\n",
       "0    S           72\n",
       "1    Q            8\n",
       "2    C           18"
      ]
     },
     "metadata": {},
     "output_type": "display_data"
    }
   ],
   "source": [
    "import pandas as pd\n",
    "\n",
    "data = pd.read_csv(\"titanic.csv\")\n",
    "ammount = data.count()['PassengerId']\n",
    "\n",
    "columns = ['city', 'suriv_freq%']\n",
    "count = pd.DataFrame([('S',0), ('Q',0), ('C',0)], columns=columns)\n",
    "city = {\"S\":0, \"Q\":1, \"C\":2}\n",
    "for x in data['Embarked'].tolist():\n",
    "    try:\n",
    "        #count['freq'][x-1] += 1\n",
    "        #count.loc[x-1][\"freq\"] += 1\n",
    "        \n",
    "        count.at[city[x], 'suriv_freq%'] += 1\n",
    "    except:\n",
    "        continue\n",
    "\n",
    "for x in range(3):\n",
    "    count.at[x, 'suriv_freq%'] = int((count['suriv_freq%'][x]/ammount)*100)\n",
    "display(count)"
   ]
  },
  {
   "cell_type": "code",
   "execution_count": 39,
   "id": "72ca404f-ec97-4386-9b96-d796e0577f18",
   "metadata": {},
   "outputs": [
    {
     "data": {
      "text/plain": [
       "<Axes: >"
      ]
     },
     "execution_count": 39,
     "metadata": {},
     "output_type": "execute_result"
    },
    {
     "data": {
      "image/png": "[encoded data removed]",
      "text/plain": [
       "<Figure size 640x480 with 1 Axes>"
      ]
     },
     "metadata": {},
     "output_type": "display_data"
    }
   ],
   "source": [
    "import pandas as pd\n",
    "import seaborn\n",
    "\n",
    "data = pd.read_csv(\"titanic.csv\")\n",
    "\n",
    "boarded = {\"S\":0, \"Q\":0, \"C\":0}\n",
    "pclass = {1:0, 2:0, 3:0}\n",
    "ammount = data.count()['PassengerId']\n",
    "\n",
    "\n",
    "for x in data['Embarked'].tolist():\n",
    "    try:\n",
    "        boarded[x] += 1\n",
    "    except:\n",
    "        continue\n",
    "seaborn.barplot(boarded)\n",
    "\n",
    "for x in data['Pclass'].tolist():\n",
    "    pclass[x] += 1\n",
    "\n",
    "\n",
    "for x in range(1, 4):\n",
    "    pclass[x] = int((pclass[x] / ammount)*100)\n",
    "\n",
    "seaborn.barplot(pclass)"
   ]
  },
  {
   "cell_type": "code",
   "execution_count": 62,
   "id": "428f7350-0bd9-4785-a8a3-e3014b78524a",
   "metadata": {},
   "outputs": [
    {
     "data": {
      "text/html": [
       "<div>\n",
       "<style scoped>\n",
       "    .dataframe tbody tr th:only-of-type {\n",
       "        vertical-align: middle;\n",
       "    }\n",
       "\n",
       "    .dataframe tbody tr th {\n",
       "        vertical-align: top;\n",
       "    }\n",
       "\n",
       "    .dataframe thead th {\n",
       "        text-align: right;\n",
       "    }\n",
       "</style>\n",
       "<table border=\"1\" class=\"dataframe\">\n",
       "  <thead>\n",
       "    <tr style=\"text-align: right;\">\n",
       "      <th></th>\n",
       "      <th>city</th>\n",
       "      <th>variable</th>\n",
       "      <th>value</th>\n",
       "    </tr>\n",
       "  </thead>\n",
       "  <tbody>\n",
       "    <tr>\n",
       "      <th>0</th>\n",
       "      <td>S</td>\n",
       "      <td>survived</td>\n",
       "      <td>217</td>\n",
       "    </tr>\n",
       "    <tr>\n",
       "      <th>1</th>\n",
       "      <td>Q</td>\n",
       "      <td>survived</td>\n",
       "      <td>30</td>\n",
       "    </tr>\n",
       "    <tr>\n",
       "      <th>2</th>\n",
       "      <td>C</td>\n",
       "      <td>survived</td>\n",
       "      <td>93</td>\n",
       "    </tr>\n",
       "    <tr>\n",
       "      <th>3</th>\n",
       "      <td>S</td>\n",
       "      <td>died</td>\n",
       "      <td>427</td>\n",
       "    </tr>\n",
       "    <tr>\n",
       "      <th>4</th>\n",
       "      <td>Q</td>\n",
       "      <td>died</td>\n",
       "      <td>47</td>\n",
       "    </tr>\n",
       "    <tr>\n",
       "      <th>5</th>\n",
       "      <td>C</td>\n",
       "      <td>died</td>\n",
       "      <td>75</td>\n",
       "    </tr>\n",
       "  </tbody>\n",
       "</table>\n",
       "</div>"
      ],
      "text/plain": [
       "  city  variable  value\n",
       "0    S  survived    217\n",
       "1    Q  survived     30\n",
       "2    C  survived     93\n",
       "3    S      died    427\n",
       "4    Q      died     47\n",
       "5    C      died     75"
      ]
     },
     "metadata": {},
     "output_type": "display_data"
    },
    {
     "data": {
      "image/png": "[encoded data removed]",
      "text/plain": [
       "<Figure size 640x480 with 1 Axes>"
      ]
     },
     "metadata": {},
     "output_type": "display_data"
    }
   ],
   "source": [
    "import pandas as pd\n",
    "import seaborn\n",
    "\n",
    "data = pd.read_csv(\"titanic.csv\")\n",
    "\n",
    "boarded = {\"S\":{\"d\":0, \"s\":0}, \"Q\":{\"d\":0, \"s\":0}, \"C\":{\"d\":0, \"s\":0}}\n",
    "pclass = {1:{\"d\":0, \"s\":0}, 2:{\"d\":0, \"s\":0}, 3:{\"d\":0, \"s\":0}}\n",
    "ammount = data.count()['PassengerId']\n",
    "\n",
    "columns = ['city', 'survived', 'died']\n",
    "boardDF = pd.DataFrame([('S',0, 0), ('Q',0, 0), ('C',0, 0)], columns=columns)\n",
    "city = {\"S\":0, \"Q\":1, \"C\":2}\n",
    "\n",
    "sdlist = {0:\"d\", 1:\"s\"}\n",
    "count = -1\n",
    "for x in data['Embarked'].tolist():\n",
    "    try:\n",
    "        count += 1\n",
    "        #boarded[x][sdlist[data.loc[count][\"Survived\"]]] += 1\n",
    "        \n",
    "        boardDF.at[city[x], \"survived\" if data.loc[count][\"Survived\"] == 1 else \"died\"] += 1\n",
    "    except:\n",
    "        continue\n",
    "\n",
    "#seaborn.barplot(boardDF)\n",
    "\n",
    "seaborn.barplot(x='city', y='value', hue='variable', data=pd.melt(boardDF, id_vars='city', value_vars=['survived', 'died']))\n",
    "boardDF\n",
    "display(pd.melt(boardDF, id_vars='city', value_vars=['survived', 'died']))\n",
    "\n",
    "#for x in data['Pclass'].tolist():\n",
    "#    pclass[x] += 1\n",
    "\n",
    "\n",
    "#for x in range(1, 4):\n",
    "#    pclass[x] = int((pclass[x] / ammount)*100)\n",
    "\n",
    "#seaborn.barplot(pclass)"
   ]
  },
  {
   "cell_type": "code",
   "execution_count": 63,
   "id": "42ababe7-4a75-4eef-a2ea-4a0226f69847",
   "metadata": {},
   "outputs": [
    {
     "data": {
      "text/plain": [
       "137"
      ]
     },
     "execution_count": 63,
     "metadata": {},
     "output_type": "execute_result"
    }
   ],
   "source": [
    "import pandas as pd\n",
    "import seaborn\n",
    "\n",
    "data = pd.read_csv(\"estonia.csv\")\n",
    "\n",
    "count = 0\n",
    "died = 0\n",
    "for x in data['Survived'].tolist():\n",
    "    if x == 1:\n",
    "        count += 1\n",
    "    else:\n",
    "        died += 1\n",
    "co"
   ]
  },
  {
   "cell_type": "code",
   "execution_count": null,
   "id": "2a47769d-47b1-4919-99c7-f87c82d7b879",
   "metadata": {},
   "outputs": [],
   "source": []
  }
 ],
 "metadata": {
  "kernelspec": {
   "display_name": "Python 3 (ipykernel)",
   "language": "python",
   "name": "python3"
  },
  "language_info": {
   "codemirror_mode": {
    "name": "ipython",
    "version": 3
   },
   "file_extension": ".py",
   "mimetype": "text/x-python",
   "name": "python",
   "nbconvert_exporter": "python",
   "pygments_lexer": "ipython3",
   "version": "3.12.5"
  }
 },
 "nbformat": 4,
 "nbformat_minor": 5
}
