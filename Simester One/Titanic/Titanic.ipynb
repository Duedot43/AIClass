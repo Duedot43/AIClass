{
 "cells": [
  {
   "cell_type": "code",
   "execution_count": 48,
   "id": "b21bb51d-ef17-466c-aac7-cc7ec9b0ee91",
   "metadata": {},
   "outputs": [
    {
     "name": "stdout",
     "output_type": "stream",
     "text": [
      "576 over 18\n",
      "64% Male\n"
     ]
    }
   ],
   "source": [
    "import pandas as pd\n",
    "\n",
    "data = pd.read_csv(\"titanic.csv\")\n",
    "\n",
    "#count = {}\n",
    "#for x in data['Age'].tolist():\n",
    "#    try:\n",
    "#        count[x] += 1\n",
    "#    except:\n",
    "#        count.update({x:1})\n",
    "#print(count)\n",
    "\n",
    "data.at[5, 'Age'] = 28\n",
    "\n",
    "count = 0\n",
    "for x in data['Age'].tolist():\n",
    "    try:\n",
    "        if int(x) > 18:\n",
    "            count += 1\n",
    "    except:\n",
    "        continue\n",
    "print(str(count) + \" over 18\")\n",
    "\n",
    "ammount = data.count()['PassengerId']\n",
    "count = 0\n",
    "for x in data['Sex'].tolist():\n",
    "    if x == \"male\":\n",
    "        count += 1\n",
    "print(str(int((count/ammount)*100)) + \"% Male\")"
   ]
  },
  {
   "cell_type": "code",
   "execution_count": null,
   "id": "e74da0ee-f629-4f47-959b-1bd237dbbe14",
   "metadata": {},
   "outputs": [],
   "source": []
  }
 ],
 "metadata": {
  "kernelspec": {
   "display_name": "Python 3 (ipykernel)",
   "language": "python",
   "name": "python3"
  },
  "language_info": {
   "codemirror_mode": {
    "name": "ipython",
    "version": 3
   },
   "file_extension": ".py",
   "mimetype": "text/x-python",
   "name": "python",
   "nbconvert_exporter": "python",
   "pygments_lexer": "ipython3",
   "version": "3.12.4"
  }
 },
 "nbformat": 4,
 "nbformat_minor": 5
}
