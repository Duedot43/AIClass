{
 "cells": [
  {
   "cell_type": "code",
   "execution_count": 48,
   "id": "b21bb51d-ef17-466c-aac7-cc7ec9b0ee91",
   "metadata": {},
   "outputs": [
    {
     "name": "stdout",
     "output_type": "stream",
     "text": [
      "576 over 18\n",
      "64% Male\n"
     ]
    }
   ],
   "source": [
    "import pandas as pd\n",
    "\n",
    "data = pd.read_csv(\"titanic.csv\")\n",
    "\n",
    "#count = {}\n",
    "#for x in data['Age'].tolist():\n",
    "#    try:\n",
    "#        count[x] += 1\n",
    "#    except:\n",
    "#        count.update({x:1})\n",
    "#print(count)\n",
    "\n",
    "data.at[5, 'Age'] = 28\n",
    "\n",
    "count = 0\n",
    "for x in data['Age'].tolist():\n",
    "    try:\n",
    "        if int(x) > 18:\n",
    "            count += 1\n",
    "    except:\n",
    "        continue\n",
    "print(str(count) + \" over 18\")\n",
    "\n",
    "ammount = data.count()['PassengerId']\n",
    "count = 0\n",
    "for x in data['Sex'].tolist():\n",
    "    if x == \"male\":\n",
    "        count += 1\n",
    "print(str(int((count/ammount)*100)) + \"% Male\")"
   ]
  },
  {
   "cell_type": "code",
   "execution_count": 62,
   "id": "e74da0ee-f629-4f47-959b-1bd237dbbe14",
   "metadata": {},
   "outputs": [
    {
     "data": {
      "text/html": [
       "<div>\n",
       "<style scoped>\n",
       "    .dataframe tbody tr th:only-of-type {\n",
       "        vertical-align: middle;\n",
       "    }\n",
       "\n",
       "    .dataframe tbody tr th {\n",
       "        vertical-align: top;\n",
       "    }\n",
       "\n",
       "    .dataframe thead th {\n",
       "        text-align: right;\n",
       "    }\n",
       "</style>\n",
       "<table border=\"1\" class=\"dataframe\">\n",
       "  <thead>\n",
       "    <tr style=\"text-align: right;\">\n",
       "      <th></th>\n",
       "      <th>class</th>\n",
       "      <th>freq%</th>\n",
       "    </tr>\n",
       "  </thead>\n",
       "  <tbody>\n",
       "    <tr>\n",
       "      <th>0</th>\n",
       "      <td>1</td>\n",
       "      <td>24</td>\n",
       "    </tr>\n",
       "    <tr>\n",
       "      <th>1</th>\n",
       "      <td>2</td>\n",
       "      <td>20</td>\n",
       "    </tr>\n",
       "    <tr>\n",
       "      <th>2</th>\n",
       "      <td>3</td>\n",
       "      <td>55</td>\n",
       "    </tr>\n",
       "  </tbody>\n",
       "</table>\n",
       "</div>"
      ],
      "text/plain": [
       "   class  freq%\n",
       "0      1     24\n",
       "1      2     20\n",
       "2      3     55"
      ]
     },
     "metadata": {},
     "output_type": "display_data"
    }
   ],
   "source": [
    "import pandas as pd\n",
    "\n",
    "data = pd.read_csv(\"titanic.csv\")\n",
    "ammount = data.count()['PassengerId']\n",
    "\n",
    "columns = ['class', 'freq%']\n",
    "count = pd.DataFrame([(1,0), (2,0), (3,0)], columns=columns)\n",
    "for x in data['Pclass'].tolist():\n",
    "    try:\n",
    "        #count['freq'][x-1] += 1\n",
    "        #count.loc[x-1][\"freq\"] += 1\n",
    "        count.at[x-1, 'freq%'] += 1\n",
    "    except:\n",
    "        continue\n",
    "\n",
    "for x in range(3):\n",
    "    count.at[x, 'freq%'] = int((count['freq%'][x]/ammount)*100)\n",
    "display(count)"
   ]
  },
  {
   "cell_type": "code",
   "execution_count": null,
   "id": "72ca404f-ec97-4386-9b96-d796e0577f18",
   "metadata": {},
   "outputs": [],
   "source": []
  }
 ],
 "metadata": {
  "kernelspec": {
   "display_name": "Python 3 (ipykernel)",
   "language": "python",
   "name": "python3"
  },
  "language_info": {
   "codemirror_mode": {
    "name": "ipython",
    "version": 3
   },
   "file_extension": ".py",
   "mimetype": "text/x-python",
   "name": "python",
   "nbconvert_exporter": "python",
   "pygments_lexer": "ipython3",
   "version": "3.12.4"
  }
 },
 "nbformat": 4,
 "nbformat_minor": 5
}
